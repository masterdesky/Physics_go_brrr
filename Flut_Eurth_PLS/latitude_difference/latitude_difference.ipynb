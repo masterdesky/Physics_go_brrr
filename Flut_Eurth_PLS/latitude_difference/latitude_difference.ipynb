{
 "cells": [
  {
   "cell_type": "markdown",
   "metadata": {},
   "source": [
    "# Difference in lines of constant latitude\n",
    "\n",
    "Comparing differences between the real, and the flat Earth model"
   ]
  },
  {
   "cell_type": "code",
   "execution_count": 4,
   "metadata": {},
   "outputs": [],
   "source": [
    "import numpy as np\n",
    "import sympy as sp\n",
    "\n",
    "import seaborn as sns\n",
    "import matplotlib as mpl\n",
    "import matplotlib.cm as cm\n",
    "import matplotlib.pyplot as plt"
   ]
  },
  {
   "cell_type": "markdown",
   "metadata": {},
   "source": [
    "### Just some matplotlib and seaborn parameter tuning"
   ]
  },
  {
   "cell_type": "code",
   "execution_count": 2,
   "metadata": {},
   "outputs": [],
   "source": [
    "out = 'out\\\\'\n",
    "figsave_format = 'png'\n",
    "figsave_dpi = 200\n",
    "\n",
    "# Set axtick dimensions\n",
    "major_size = 6\n",
    "major_width = 1.2\n",
    "minor_size = 3\n",
    "minor_width = 1\n",
    "mpl.rcParams['xtick.major.size'] = major_size\n",
    "mpl.rcParams['xtick.major.width'] = major_width\n",
    "mpl.rcParams['xtick.minor.size'] = minor_size\n",
    "mpl.rcParams['xtick.minor.width'] = minor_width\n",
    "mpl.rcParams['ytick.major.size'] = major_size\n",
    "mpl.rcParams['ytick.major.width'] = major_width\n",
    "mpl.rcParams['ytick.minor.size'] = minor_size\n",
    "mpl.rcParams['ytick.minor.width'] = minor_width\n",
    "\n",
    "# Seaborn style settings\n",
    "seaborn_cmap = sns.cubehelix_palette(as_cmap=True, dark=0, light=1, reverse=True)\n",
    "\n",
    "sns.set_style({'axes.axisbelow': True,\n",
    "               'axes.edgecolor': '.8',\n",
    "               'axes.facecolor': 'white',\n",
    "               'axes.grid': True,\n",
    "               'axes.labelcolor': '.15',\n",
    "               'axes.spines.bottom': True,\n",
    "               'axes.spines.left': True,\n",
    "               'axes.spines.right': True,\n",
    "               'axes.spines.top': True,\n",
    "               'figure.facecolor': 'white',\n",
    "               'font.family': ['sans-serif'],\n",
    "               'font.sans-serif': ['Arial',\n",
    "                'DejaVu Sans',\n",
    "                'Liberation Sans',\n",
    "                'Bitstream Vera Sans',\n",
    "                'sans-serif'],\n",
    "               'grid.color': '.8',\n",
    "               'grid.linestyle': '--',\n",
    "               'image.cmap': 'rocket',\n",
    "               'lines.solid_capstyle': 'round',\n",
    "               'patch.edgecolor': 'w',\n",
    "               'patch.force_edgecolor': True,\n",
    "               'text.color': '.15',\n",
    "               'xtick.bottom': True,\n",
    "               'xtick.color': '.15',\n",
    "               'xtick.direction': 'in',\n",
    "               'xtick.top': True,\n",
    "               'ytick.color': '.15',\n",
    "               'ytick.direction': 'in',\n",
    "               'ytick.left': True,\n",
    "               'ytick.right': True})"
   ]
  },
  {
   "cell_type": "markdown",
   "metadata": {},
   "source": [
    "## Flat Earth vs Real model\n",
    "\n",
    "[//]: # (Banish \\phi from this realm)\n",
    "$$\n",
    "\\renewcommand{\\phi}{\\varphi}\n",
    "$$\n",
    "The general form of the **meridian radius of curvature** can be shown to be equal to\n",
    "\n",
    "$$\n",
    "M \\left( \\phi \\right)\n",
    "=\n",
    "\\frac{a \\left( 1 - e^{2} \\right)}{\\left( 1 - e^{2} \\sin^{2} \\left( \\phi \\right) \\right)^{\\frac{3}{2}}}\n",
    "$$\n",
    "\n",
    "It can be also shown, that the **meridian distance** from the equator to latitude $\\phi$ is\n",
    "\n",
    "$$\n",
    "m \\left( \\phi \\right)\n",
    "=\n",
    "\\int_{0}^{\\phi} M \\left( \\phi \\right)\\,\\text{d}\\phi\n",
    "=\n",
    "a \\left( 1 - e^{2} \\right)\n",
    "\\int_{0}^{\\phi}\n",
    "\\frac{1}{\\left( 1 - e^{2} \\sin^{2} \\left( \\phi \\right) \\right)^{\\frac{3}{2}}}\\,\\text{d}\\phi\n",
    "$$\n",
    "\n",
    "Using the parametric latitude, this formula could be written in a much easier form as follows:\n",
    "\n",
    "$$\n",
    "m \\left( \\phi \\right)\n",
    "=\n",
    "b\n",
    "\\int_{0}^{\\beta}\n",
    "\\sqrt{1 + e'^{2} \\sin^{2} \\left( \\beta \\right)}\\,\\text{d}\\beta\n",
    "$$\n",
    "\n",
    "where $b = a \\sqrt{1 - e^{2}}$ is the legnth of the semi-minor axis. In this form the integral in the formula of the $m \\left( \\phi \\right)$ meridian distance is an incoplete elliptic integral of the third kind, which could be written in terms of incomplete elliptic integral of the second kind as seen in the NIST (see https://dlmf.nist.gov/19.6#iv). The formulation is the following:\n",
    "\n",
    "$$\n",
    "m \\left( \\phi \\right)\n",
    "=\n",
    "b E \\left( \\beta, i e' \\right)\n",
    "$$\n",
    "\n",
    "Where $E \\left( \\beta, i e' \\right)$ is an incomplete elliptic integrals of the second kind."
   ]
  },
  {
   "cell_type": "markdown",
   "metadata": {},
   "source": [
    "### 1. Approximating Earth to be completely spherical"
   ]
  },
  {
   "cell_type": "code",
   "execution_count": 27,
   "metadata": {},
   "outputs": [],
   "source": [
    "## Constants\n",
    "\n",
    "# Using the euqatorial radius as semi-major axis, defined by the WGS84 geodetic system\n",
    "# Source: https://www.wmo.int/pages/prog/sat/meetings/documents/ET-SAT-6_Doc_16-01_WGS84.pdf\n",
    "# [a] = km\n",
    "a = 6378.1370\n",
    "\n",
    "# Approximating Earth to be a sphere with zero eccentricity\n",
    "e = 0\n",
    "\n",
    "# Calculating semi-minor axis length\n",
    "b = a * np.sqrt(1 - e**2)"
   ]
  },
  {
   "cell_type": "code",
   "execution_count": 26,
   "metadata": {},
   "outputs": [],
   "source": [
    "# Sampling points for \\phi latitudes\n",
    "# [phi] = rad\n",
    "# Southern pole is at -pi/2 rad\n",
    "# Nothern pole is at +pi/2 rad\n",
    "phi = np.linspace(0, np.pi/2, 500)\n",
    "\n",
    "# Calculating parametric latitudes for easier calculations\n",
    "beta_phi = np.arctan(np.sqrt(1 - e**2) * np.tan(phi))"
   ]
  },
  {
   "cell_type": "code",
   "execution_count": 28,
   "metadata": {},
   "outputs": [],
   "source": [
    "x = sp.Symbol('x')\n",
    "e_dash = sp.Symbol('e\\'')\n",
    "integ = sp.integrate(sp.sqrt(1 + e_dash**2 * sp.sin(x)), (x, 0, beta_phi[-1]))"
   ]
  },
  {
   "cell_type": "code",
   "execution_count": 30,
   "metadata": {},
   "outputs": [
    {
     "data": {
      "text/latex": [
       "$\\displaystyle \\int\\limits_{0}^{1.5707963267949} \\sqrt{e'^{2} \\sin{\\left(x \\right)} + 1}\\, dx$"
      ],
      "text/plain": [
       "Integral(sqrt(e'**2*sin(x) + 1), (x, 0, 1.5707963267949))"
      ]
     },
     "execution_count": 30,
     "metadata": {},
     "output_type": "execute_result"
    }
   ],
   "source": [
    "integ"
   ]
  },
  {
   "cell_type": "code",
   "execution_count": null,
   "metadata": {},
   "outputs": [],
   "source": [
    "# Calculating the integral above for the given \\phi latitudes\n",
    "integrals = []\n",
    "\n",
    "x = sp.Symbol('x')\n",
    "\n",
    "for ph in phi:\n",
    "    temp_int = sp.integrate((1 - sp.exp(2) sp.sin(x)**2)^(3/2), (0, ph, x))\n",
    "    temp_int.evalf(subs={})"
   ]
  },
  {
   "cell_type": "code",
   "execution_count": null,
   "metadata": {},
   "outputs": [],
   "source": [
    "\n",
    "\n",
    "# Distance between poles (Length of a meridian)\n",
    "r_merid = np.linspace()"
   ]
  },
  {
   "cell_type": "markdown",
   "metadata": {},
   "source": [
    "### 2. Appriximating Earth to be oblate spheroid"
   ]
  },
  {
   "cell_type": "code",
   "execution_count": null,
   "metadata": {},
   "outputs": [],
   "source": []
  }
 ],
 "metadata": {
  "kernelspec": {
   "display_name": "Python 3",
   "language": "python",
   "name": "python3"
  },
  "language_info": {
   "codemirror_mode": {
    "name": "ipython",
    "version": 3
   },
   "file_extension": ".py",
   "mimetype": "text/x-python",
   "name": "python",
   "nbconvert_exporter": "python",
   "pygments_lexer": "ipython3",
   "version": "3.7.7"
  }
 },
 "nbformat": 4,
 "nbformat_minor": 4
}
